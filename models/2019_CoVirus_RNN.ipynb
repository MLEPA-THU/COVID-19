{
  "nbformat": 4,
  "nbformat_minor": 0,
  "metadata": {
    "colab": {
      "name": "2019-CoVirus-RNN",
      "provenance": [],
      "toc_visible": true
    },
    "kernelspec": {
      "name": "python3",
      "display_name": "Python 3"
    }
  },
  "cells": [
    {
      "cell_type": "code",
      "metadata": {
        "id": "UB5zQwVejFWR",
        "colab_type": "code",
        "colab": {}
      },
      "source": [
        "import numpy as np \n",
        "import pandas as pd \n",
        "from numpy import array\n",
        "import matplotlib.pyplot as plt "
      ],
      "execution_count": 0,
      "outputs": []
    },
    {
      "cell_type": "code",
      "metadata": {
        "id": "zut-uA9014QU",
        "colab_type": "code",
        "outputId": "4cd14826-ef48-4ae0-f88a-e29903b8626f",
        "colab": {
          "base_uri": "https://localhost:8080/",
          "height": 545
        }
      },
      "source": [
        "dataf = pd.read_csv('coronavirus.csv')\n",
        "dataf"
      ],
      "execution_count": 11,
      "outputs": [
        {
          "output_type": "execute_result",
          "data": {
            "text/html": [
              "<div>\n",
              "<style scoped>\n",
              "    .dataframe tbody tr th:only-of-type {\n",
              "        vertical-align: middle;\n",
              "    }\n",
              "\n",
              "    .dataframe tbody tr th {\n",
              "        vertical-align: top;\n",
              "    }\n",
              "\n",
              "    .dataframe thead th {\n",
              "        text-align: right;\n",
              "    }\n",
              "</style>\n",
              "<table border=\"1\" class=\"dataframe\">\n",
              "  <thead>\n",
              "    <tr style=\"text-align: right;\">\n",
              "      <th></th>\n",
              "      <th>Day</th>\n",
              "      <th>Confirmed</th>\n",
              "      <th>Deaths</th>\n",
              "      <th>Recovered</th>\n",
              "    </tr>\n",
              "  </thead>\n",
              "  <tbody>\n",
              "    <tr>\n",
              "      <th>0</th>\n",
              "      <td>23</td>\n",
              "      <td>844</td>\n",
              "      <td>25</td>\n",
              "      <td>30</td>\n",
              "    </tr>\n",
              "    <tr>\n",
              "      <th>1</th>\n",
              "      <td>24</td>\n",
              "      <td>1312</td>\n",
              "      <td>41</td>\n",
              "      <td>26</td>\n",
              "    </tr>\n",
              "    <tr>\n",
              "      <th>2</th>\n",
              "      <td>25</td>\n",
              "      <td>2015</td>\n",
              "      <td>56</td>\n",
              "      <td>49</td>\n",
              "    </tr>\n",
              "    <tr>\n",
              "      <th>3</th>\n",
              "      <td>26</td>\n",
              "      <td>2801</td>\n",
              "      <td>80</td>\n",
              "      <td>54</td>\n",
              "    </tr>\n",
              "    <tr>\n",
              "      <th>4</th>\n",
              "      <td>27</td>\n",
              "      <td>4579</td>\n",
              "      <td>106</td>\n",
              "      <td>63</td>\n",
              "    </tr>\n",
              "    <tr>\n",
              "      <th>5</th>\n",
              "      <td>28</td>\n",
              "      <td>6061</td>\n",
              "      <td>132</td>\n",
              "      <td>63</td>\n",
              "    </tr>\n",
              "    <tr>\n",
              "      <th>6</th>\n",
              "      <td>29</td>\n",
              "      <td>7816</td>\n",
              "      <td>170</td>\n",
              "      <td>133</td>\n",
              "    </tr>\n",
              "    <tr>\n",
              "      <th>7</th>\n",
              "      <td>30</td>\n",
              "      <td>9821</td>\n",
              "      <td>213</td>\n",
              "      <td>187</td>\n",
              "    </tr>\n",
              "    <tr>\n",
              "      <th>8</th>\n",
              "      <td>31</td>\n",
              "      <td>11948</td>\n",
              "      <td>259</td>\n",
              "      <td>267</td>\n",
              "    </tr>\n",
              "    <tr>\n",
              "      <th>9</th>\n",
              "      <td>32</td>\n",
              "      <td>14551</td>\n",
              "      <td>304</td>\n",
              "      <td>416</td>\n",
              "    </tr>\n",
              "    <tr>\n",
              "      <th>10</th>\n",
              "      <td>33</td>\n",
              "      <td>17387</td>\n",
              "      <td>362</td>\n",
              "      <td>712</td>\n",
              "    </tr>\n",
              "    <tr>\n",
              "      <th>11</th>\n",
              "      <td>34</td>\n",
              "      <td>20626</td>\n",
              "      <td>426</td>\n",
              "      <td>913</td>\n",
              "    </tr>\n",
              "    <tr>\n",
              "      <th>12</th>\n",
              "      <td>35</td>\n",
              "      <td>24553</td>\n",
              "      <td>492</td>\n",
              "      <td>1260</td>\n",
              "    </tr>\n",
              "    <tr>\n",
              "      <th>13</th>\n",
              "      <td>36</td>\n",
              "      <td>28276</td>\n",
              "      <td>565</td>\n",
              "      <td>1601</td>\n",
              "    </tr>\n",
              "    <tr>\n",
              "      <th>14</th>\n",
              "      <td>37</td>\n",
              "      <td>31439</td>\n",
              "      <td>638</td>\n",
              "      <td>1844</td>\n",
              "    </tr>\n",
              "    <tr>\n",
              "      <th>15</th>\n",
              "      <td>38</td>\n",
              "      <td>34875</td>\n",
              "      <td>724</td>\n",
              "      <td>2075</td>\n",
              "    </tr>\n",
              "  </tbody>\n",
              "</table>\n",
              "</div>"
            ],
            "text/plain": [
              "    Day  Confirmed  Deaths  Recovered\n",
              "0    23        844      25         30\n",
              "1    24       1312      41         26\n",
              "2    25       2015      56         49\n",
              "3    26       2801      80         54\n",
              "4    27       4579     106         63\n",
              "5    28       6061     132         63\n",
              "6    29       7816     170        133\n",
              "7    30       9821     213        187\n",
              "8    31      11948     259        267\n",
              "9    32      14551     304        416\n",
              "10   33      17387     362        712\n",
              "11   34      20626     426        913\n",
              "12   35      24553     492       1260\n",
              "13   36      28276     565       1601\n",
              "14   37      31439     638       1844\n",
              "15   38      34875     724       2075"
            ]
          },
          "metadata": {
            "tags": []
          },
          "execution_count": 11
        }
      ]
    },
    {
      "cell_type": "code",
      "metadata": {
        "id": "DL6sKF1moqNA",
        "colab_type": "code",
        "colab": {
          "base_uri": "https://localhost:8080/",
          "height": 80
        },
        "outputId": "8fad24d3-58a6-4c25-f2f5-c06619ab2eb2"
      },
      "source": [
        "from random import randint\n",
        "from numpy import array\n",
        "from numpy import argmax\n",
        "from numpy import array_equal\n",
        "from keras.utils import to_categorical\n",
        "from keras.models import Model\n",
        "from keras.layers import Input\n",
        "from keras.layers import LSTM\n",
        "from keras.layers import Dense"
      ],
      "execution_count": 5,
      "outputs": [
        {
          "output_type": "stream",
          "text": [
            "Using TensorFlow backend.\n"
          ],
          "name": "stderr"
        },
        {
          "output_type": "display_data",
          "data": {
            "text/html": [
              "<p style=\"color: red;\">\n",
              "The default version of TensorFlow in Colab will soon switch to TensorFlow 2.x.<br>\n",
              "We recommend you <a href=\"https://www.tensorflow.org/guide/migrate\" target=\"_blank\">upgrade</a> now \n",
              "or ensure your notebook will continue to use TensorFlow 1.x via the <code>%tensorflow_version 1.x</code> magic:\n",
              "<a href=\"https://colab.research.google.com/notebooks/tensorflow_version.ipynb\" target=\"_blank\">more info</a>.</p>\n"
            ],
            "text/plain": [
              "<IPython.core.display.HTML object>"
            ]
          },
          "metadata": {
            "tags": []
          }
        }
      ]
    },
    {
      "cell_type": "code",
      "metadata": {
        "id": "bb_z-zC5o7hN",
        "colab_type": "code",
        "colab": {}
      },
      "source": [
        "def load_data(data, time_step=2, after_day=1, validate_percent=0.67):\n",
        "    seq_length = time_step + after_day\n",
        "    result = []\n",
        "    for index in range(len(data) - seq_length + 1):\n",
        "        result.append(data[index: index + seq_length])\n",
        "    result = np.array(result)\n",
        "    print('total data: ', result.shape)\n",
        "\n",
        "    train_size = int(len(result) * validate_percent)\n",
        "    train = result[:train_size, :]\n",
        "    validate = result[train_size:, :]\n",
        "\n",
        "    x_train = train[:, :time_step]\n",
        "    y_train = train[:, time_step:]\n",
        "    x_validate = validate[:, :time_step]\n",
        "    y_validate = validate[:, time_step:]\n",
        "\n",
        "    return [x_train, y_train, x_validate, y_validate]"
      ],
      "execution_count": 0,
      "outputs": []
    },
    {
      "cell_type": "code",
      "metadata": {
        "id": "cbA-pmY7qiTo",
        "colab_type": "code",
        "colab": {}
      },
      "source": [
        "def base_model(feature_len=3, after_day=3, input_shape=(8, 1)):\n",
        "    model = Sequential()\n",
        "\n",
        "    model.add(LSTM(units=100, return_sequences=False, input_shape=input_shape))\n",
        "\n",
        "    model.add(RepeatVector(after_day))\n",
        "    model.add(LSTM(200, return_sequences=True))\n",
        "\n",
        "    model.add(TimeDistributed(Dense(units=feature_len, activation='linear')))\n",
        "\n",
        "    return model"
      ],
      "execution_count": 0,
      "outputs": []
    },
    {
      "cell_type": "code",
      "metadata": {
        "id": "l7NFfjymqsBu",
        "colab_type": "code",
        "colab": {}
      },
      "source": [
        "def seq2seq(feature_len=1, after_day=1, input_shape=(8, 1)):\n",
        "    '''\n",
        "    Encoder:\n",
        "    X = Input sequence\n",
        "    C = LSTM(X); The context vector\n",
        "\n",
        "    Decoder:\n",
        "    y(t) = LSTM(s(t-1), y(t-1)); where s is the hidden state of the LSTM(h and c)\n",
        "    y(0) = LSTM(s0, C); C is the context vector from the encoder.\n",
        "    '''\n",
        "\n",
        "    # Encoder\n",
        "    encoder_inputs = Input(shape=input_shape) \n",
        "    encoder = LSTM(units=100, return_state=True,  name='encoder')\n",
        "    encoder_outputs, state_h, state_c = encoder(encoder_inputs)\n",
        "    states = [state_h, state_c]\n",
        "\n",
        "    # Decoder\n",
        "    reshapor = Reshape((1, 100), name='reshapor')\n",
        "    decoder = LSTM(units=100, return_sequences=True, return_state=True, name='decoder')\n",
        "\n",
        "    # Densor\n",
        "    densor_output = Dense(units=feature_len, activation='linear', name='output')\n",
        "\n",
        "    inputs = reshapor(encoder_outputs)\n",
        "    #inputs = tdensor(inputs)\n",
        "    all_outputs = []\n",
        "\n",
        "\n",
        "\n",
        "    for _ in range(after_day):\n",
        "        outputs, h, c = decoder(inputs, initial_state=states)\n",
        "\n",
        "        inputs = outputs\n",
        "        states = [state_h, state_c]\n",
        "\n",
        "        outputs = densor_output(outputs)\n",
        "        all_outputs.append(outputs)\n",
        "\n",
        "    decoder_outputs = Lambda(lambda x: K.concatenate(x, axis=1))(all_outputs)\n",
        "    model = Model(inputs=encoder_inputs, outputs=decoder_outputs)\n",
        "\n",
        "    return model"
      ],
      "execution_count": 0,
      "outputs": []
    },
    {
      "cell_type": "code",
      "metadata": {
        "id": "XzBRrMCOq5ZO",
        "colab_type": "code",
        "colab": {}
      },
      "source": [
        "def normalize_data(data, scaler, feature_len):\n",
        "    minmaxscaler = scaler.fit(data)\n",
        "    normalize_data = minmaxscaler.transform(data)\n",
        "    return normalize_data"
      ],
      "execution_count": 0,
      "outputs": []
    },
    {
      "cell_type": "code",
      "metadata": {
        "id": "JsH4R41gq_jm",
        "colab_type": "code",
        "colab": {}
      },
      "source": [
        "from sklearn.preprocessing import MinMaxScaler\n",
        "\n",
        "scaler = MinMaxScaler(feature_range=(0, 1))\n",
        "data = normalize_data(dataf, scaler,dataf.shape[1])"
      ],
      "execution_count": 0,
      "outputs": []
    },
    {
      "cell_type": "code",
      "metadata": {
        "id": "QqZ2Hk22rEV2",
        "colab_type": "code",
        "outputId": "88621dea-e46d-43ea-89d6-5bc051a4f6e8",
        "colab": {
          "base_uri": "https://localhost:8080/",
          "height": 68
        }
      },
      "source": [
        "x_train, y_train, x_validate, y_validate = load_data(data,time_step=3, after_day=4, validate_percent=0.5)\n",
        "print('train data: ', x_train.shape, y_train.shape)\n",
        "print('validate data: ', x_validate.shape, y_validate.shape)"
      ],
      "execution_count": 13,
      "outputs": [
        {
          "output_type": "stream",
          "text": [
            "total data:  (10, 7, 4)\n",
            "train data:  (5, 3, 4) (5, 4, 4)\n",
            "validate data:  (5, 3, 4) (5, 4, 4)\n"
          ],
          "name": "stdout"
        }
      ]
    },
    {
      "cell_type": "code",
      "metadata": {
        "id": "nzWSuePz69Wr",
        "colab_type": "code",
        "outputId": "e7de10b8-35a6-4ea5-f6ca-3fb493b5e5ee",
        "colab": {
          "base_uri": "https://localhost:8080/",
          "height": 425
        }
      },
      "source": [
        "y_validate"
      ],
      "execution_count": 14,
      "outputs": [
        {
          "output_type": "execute_result",
          "data": {
            "text/plain": [
              "array([[[0.53333333, 0.32629073, 0.33476395, 0.11761835],\n",
              "        [0.6       , 0.40277982, 0.39914163, 0.19033675],\n",
              "        [0.66666667, 0.4861156 , 0.48211731, 0.33479746],\n",
              "        [0.73333333, 0.58129353, 0.57367668, 0.43289409]],\n",
              "\n",
              "       [[0.6       , 0.40277982, 0.39914163, 0.19033675],\n",
              "        [0.66666667, 0.4861156 , 0.48211731, 0.33479746],\n",
              "        [0.73333333, 0.58129353, 0.57367668, 0.43289409],\n",
              "        [0.8       , 0.69668831, 0.66809728, 0.602245  ]],\n",
              "\n",
              "       [[0.66666667, 0.4861156 , 0.48211731, 0.33479746],\n",
              "        [0.73333333, 0.58129353, 0.57367668, 0.43289409],\n",
              "        [0.8       , 0.69668831, 0.66809728, 0.602245  ],\n",
              "        [0.86666667, 0.80608857, 0.77253219, 0.76866764]],\n",
              "\n",
              "       [[0.73333333, 0.58129353, 0.57367668, 0.43289409],\n",
              "        [0.8       , 0.69668831, 0.66809728, 0.602245  ],\n",
              "        [0.86666667, 0.80608857, 0.77253219, 0.76866764],\n",
              "        [0.93333333, 0.89903323, 0.8769671 , 0.88726208]],\n",
              "\n",
              "       [[0.8       , 0.69668831, 0.66809728, 0.602245  ],\n",
              "        [0.86666667, 0.80608857, 0.77253219, 0.76866764],\n",
              "        [0.93333333, 0.89903323, 0.8769671 , 0.88726208],\n",
              "        [1.        , 1.        , 1.        , 1.        ]]])"
            ]
          },
          "metadata": {
            "tags": []
          },
          "execution_count": 14
        }
      ]
    },
    {
      "cell_type": "code",
      "metadata": {
        "id": "JH6xSJsHrbHe",
        "colab_type": "code",
        "colab": {}
      },
      "source": [
        "from keras import backend as K\n",
        "from keras.models import Sequential, load_model, Model\n",
        "from keras.layers import LSTM, Dense, Activation, TimeDistributed, Dropout, Lambda, RepeatVector, Input, Reshape\n",
        "from keras.callbacks import ModelCheckpoint"
      ],
      "execution_count": 0,
      "outputs": []
    },
    {
      "cell_type": "code",
      "metadata": {
        "id": "x3Uvt1EsrcWu",
        "colab_type": "code",
        "outputId": "cc0228f6-585b-4e7b-903d-70f360bc034d",
        "colab": {
          "base_uri": "https://localhost:8080/",
          "height": 802
        }
      },
      "source": [
        "input_shape = (3, data.shape[1])\n",
        "model = seq2seq(data.shape[1], 4, input_shape)\n",
        "model.compile(loss='mse', optimizer='adam',metrics=['acc'])\n",
        "model.summary()"
      ],
      "execution_count": 16,
      "outputs": [
        {
          "output_type": "stream",
          "text": [
            "WARNING:tensorflow:From /usr/local/lib/python3.6/dist-packages/keras/backend/tensorflow_backend.py:66: The name tf.get_default_graph is deprecated. Please use tf.compat.v1.get_default_graph instead.\n",
            "\n",
            "WARNING:tensorflow:From /usr/local/lib/python3.6/dist-packages/keras/backend/tensorflow_backend.py:541: The name tf.placeholder is deprecated. Please use tf.compat.v1.placeholder instead.\n",
            "\n",
            "WARNING:tensorflow:From /usr/local/lib/python3.6/dist-packages/keras/backend/tensorflow_backend.py:4432: The name tf.random_uniform is deprecated. Please use tf.random.uniform instead.\n",
            "\n",
            "WARNING:tensorflow:From /usr/local/lib/python3.6/dist-packages/keras/optimizers.py:793: The name tf.train.Optimizer is deprecated. Please use tf.compat.v1.train.Optimizer instead.\n",
            "\n",
            "Model: \"model_1\"\n",
            "__________________________________________________________________________________________________\n",
            "Layer (type)                    Output Shape         Param #     Connected to                     \n",
            "==================================================================================================\n",
            "input_1 (InputLayer)            (None, 3, 4)         0                                            \n",
            "__________________________________________________________________________________________________\n",
            "encoder (LSTM)                  [(None, 100), (None, 42000       input_1[0][0]                    \n",
            "__________________________________________________________________________________________________\n",
            "reshapor (Reshape)              (None, 1, 100)       0           encoder[0][0]                    \n",
            "__________________________________________________________________________________________________\n",
            "decoder (LSTM)                  [(None, 1, 100), (No 80400       reshapor[0][0]                   \n",
            "                                                                 encoder[0][1]                    \n",
            "                                                                 encoder[0][2]                    \n",
            "                                                                 decoder[0][0]                    \n",
            "                                                                 encoder[0][1]                    \n",
            "                                                                 encoder[0][2]                    \n",
            "                                                                 decoder[1][0]                    \n",
            "                                                                 encoder[0][1]                    \n",
            "                                                                 encoder[0][2]                    \n",
            "                                                                 decoder[2][0]                    \n",
            "                                                                 encoder[0][1]                    \n",
            "                                                                 encoder[0][2]                    \n",
            "__________________________________________________________________________________________________\n",
            "output (Dense)                  (None, 1, 4)         404         decoder[0][0]                    \n",
            "                                                                 decoder[1][0]                    \n",
            "                                                                 decoder[2][0]                    \n",
            "                                                                 decoder[3][0]                    \n",
            "__________________________________________________________________________________________________\n",
            "lambda_1 (Lambda)               (None, 4, 4)         0           output[0][0]                     \n",
            "                                                                 output[1][0]                     \n",
            "                                                                 output[2][0]                     \n",
            "                                                                 output[3][0]                     \n",
            "==================================================================================================\n",
            "Total params: 122,804\n",
            "Trainable params: 122,804\n",
            "Non-trainable params: 0\n",
            "__________________________________________________________________________________________________\n"
          ],
          "name": "stdout"
        }
      ]
    },
    {
      "cell_type": "code",
      "metadata": {
        "id": "OYpNPnFFrpWG",
        "colab_type": "code",
        "outputId": "bc617c34-f3a4-43e1-e9d8-0b392c89b814",
        "colab": {
          "base_uri": "https://localhost:8080/",
          "height": 1000
        }
      },
      "source": [
        "history = model.fit(x_train, y_train, batch_size=3, epochs=70)"
      ],
      "execution_count": 17,
      "outputs": [
        {
          "output_type": "stream",
          "text": [
            "WARNING:tensorflow:From /usr/local/lib/python3.6/dist-packages/tensorflow_core/python/ops/math_grad.py:1424: where (from tensorflow.python.ops.array_ops) is deprecated and will be removed in a future version.\n",
            "Instructions for updating:\n",
            "Use tf.where in 2.0, which has the same broadcast rule as np.where\n",
            "WARNING:tensorflow:From /usr/local/lib/python3.6/dist-packages/keras/backend/tensorflow_backend.py:1033: The name tf.assign_add is deprecated. Please use tf.compat.v1.assign_add instead.\n",
            "\n",
            "WARNING:tensorflow:From /usr/local/lib/python3.6/dist-packages/keras/backend/tensorflow_backend.py:1020: The name tf.assign is deprecated. Please use tf.compat.v1.assign instead.\n",
            "\n",
            "WARNING:tensorflow:From /usr/local/lib/python3.6/dist-packages/keras/backend/tensorflow_backend.py:3005: The name tf.Session is deprecated. Please use tf.compat.v1.Session instead.\n",
            "\n",
            "Epoch 1/70\n",
            "WARNING:tensorflow:From /usr/local/lib/python3.6/dist-packages/keras/backend/tensorflow_backend.py:190: The name tf.get_default_session is deprecated. Please use tf.compat.v1.get_default_session instead.\n",
            "\n",
            "WARNING:tensorflow:From /usr/local/lib/python3.6/dist-packages/keras/backend/tensorflow_backend.py:197: The name tf.ConfigProto is deprecated. Please use tf.compat.v1.ConfigProto instead.\n",
            "\n",
            "WARNING:tensorflow:From /usr/local/lib/python3.6/dist-packages/keras/backend/tensorflow_backend.py:207: The name tf.global_variables is deprecated. Please use tf.compat.v1.global_variables instead.\n",
            "\n",
            "WARNING:tensorflow:From /usr/local/lib/python3.6/dist-packages/keras/backend/tensorflow_backend.py:216: The name tf.is_variable_initialized is deprecated. Please use tf.compat.v1.is_variable_initialized instead.\n",
            "\n",
            "WARNING:tensorflow:From /usr/local/lib/python3.6/dist-packages/keras/backend/tensorflow_backend.py:223: The name tf.variables_initializer is deprecated. Please use tf.compat.v1.variables_initializer instead.\n",
            "\n",
            "5/5 [==============================] - 3s 601ms/step - loss: 0.0911 - acc: 0.0000e+00\n",
            "Epoch 2/70\n",
            "5/5 [==============================] - 0s 7ms/step - loss: 0.0809 - acc: 0.0000e+00\n",
            "Epoch 3/70\n",
            "5/5 [==============================] - 0s 7ms/step - loss: 0.0720 - acc: 0.0500\n",
            "Epoch 4/70\n",
            "5/5 [==============================] - 0s 7ms/step - loss: 0.0620 - acc: 0.4500\n",
            "Epoch 5/70\n",
            "5/5 [==============================] - 0s 5ms/step - loss: 0.0520 - acc: 0.8500\n",
            "Epoch 6/70\n",
            "5/5 [==============================] - 0s 5ms/step - loss: 0.0428 - acc: 1.0000\n",
            "Epoch 7/70\n",
            "5/5 [==============================] - 0s 5ms/step - loss: 0.0319 - acc: 1.0000\n",
            "Epoch 8/70\n",
            "5/5 [==============================] - 0s 6ms/step - loss: 0.0205 - acc: 1.0000\n",
            "Epoch 9/70\n",
            "5/5 [==============================] - 0s 7ms/step - loss: 0.0130 - acc: 1.0000\n",
            "Epoch 10/70\n",
            "5/5 [==============================] - 0s 7ms/step - loss: 0.0054 - acc: 1.0000\n",
            "Epoch 11/70\n",
            "5/5 [==============================] - 0s 7ms/step - loss: 0.0044 - acc: 1.0000\n",
            "Epoch 12/70\n",
            "5/5 [==============================] - 0s 6ms/step - loss: 0.0075 - acc: 1.0000\n",
            "Epoch 13/70\n",
            "5/5 [==============================] - 0s 6ms/step - loss: 0.0092 - acc: 1.0000\n",
            "Epoch 14/70\n",
            "5/5 [==============================] - 0s 6ms/step - loss: 0.0078 - acc: 1.0000\n",
            "Epoch 15/70\n",
            "5/5 [==============================] - 0s 6ms/step - loss: 0.0054 - acc: 1.0000\n",
            "Epoch 16/70\n",
            "5/5 [==============================] - 0s 6ms/step - loss: 0.0042 - acc: 1.0000\n",
            "Epoch 17/70\n",
            "5/5 [==============================] - 0s 7ms/step - loss: 0.0040 - acc: 1.0000\n",
            "Epoch 18/70\n",
            "5/5 [==============================] - 0s 6ms/step - loss: 0.0044 - acc: 1.0000\n",
            "Epoch 19/70\n",
            "5/5 [==============================] - 0s 6ms/step - loss: 0.0046 - acc: 1.0000\n",
            "Epoch 20/70\n",
            "5/5 [==============================] - 0s 6ms/step - loss: 0.0044 - acc: 1.0000\n",
            "Epoch 21/70\n",
            "5/5 [==============================] - 0s 6ms/step - loss: 0.0038 - acc: 1.0000\n",
            "Epoch 22/70\n",
            "5/5 [==============================] - 0s 7ms/step - loss: 0.0032 - acc: 1.0000\n",
            "Epoch 23/70\n",
            "5/5 [==============================] - 0s 6ms/step - loss: 0.0029 - acc: 1.0000\n",
            "Epoch 24/70\n",
            "5/5 [==============================] - 0s 6ms/step - loss: 0.0029 - acc: 1.0000\n",
            "Epoch 25/70\n",
            "5/5 [==============================] - 0s 6ms/step - loss: 0.0029 - acc: 1.0000\n",
            "Epoch 26/70\n",
            "5/5 [==============================] - 0s 6ms/step - loss: 0.0029 - acc: 1.0000\n",
            "Epoch 27/70\n",
            "5/5 [==============================] - 0s 6ms/step - loss: 0.0026 - acc: 1.0000\n",
            "Epoch 28/70\n",
            "5/5 [==============================] - 0s 6ms/step - loss: 0.0023 - acc: 1.0000\n",
            "Epoch 29/70\n",
            "5/5 [==============================] - 0s 7ms/step - loss: 0.0021 - acc: 1.0000\n",
            "Epoch 30/70\n",
            "5/5 [==============================] - 0s 6ms/step - loss: 0.0020 - acc: 1.0000\n",
            "Epoch 31/70\n",
            "5/5 [==============================] - 0s 6ms/step - loss: 0.0019 - acc: 1.0000\n",
            "Epoch 32/70\n",
            "5/5 [==============================] - 0s 6ms/step - loss: 0.0018 - acc: 1.0000\n",
            "Epoch 33/70\n",
            "5/5 [==============================] - 0s 7ms/step - loss: 0.0017 - acc: 1.0000\n",
            "Epoch 34/70\n",
            "5/5 [==============================] - 0s 6ms/step - loss: 0.0015 - acc: 1.0000\n",
            "Epoch 35/70\n",
            "5/5 [==============================] - 0s 7ms/step - loss: 0.0014 - acc: 1.0000\n",
            "Epoch 36/70\n",
            "5/5 [==============================] - 0s 6ms/step - loss: 0.0013 - acc: 1.0000\n",
            "Epoch 37/70\n",
            "5/5 [==============================] - 0s 7ms/step - loss: 0.0012 - acc: 1.0000\n",
            "Epoch 38/70\n",
            "5/5 [==============================] - 0s 7ms/step - loss: 0.0011 - acc: 1.0000\n",
            "Epoch 39/70\n",
            "5/5 [==============================] - 0s 7ms/step - loss: 0.0010 - acc: 1.0000\n",
            "Epoch 40/70\n",
            "5/5 [==============================] - 0s 7ms/step - loss: 9.6261e-04 - acc: 1.0000\n",
            "Epoch 41/70\n",
            "5/5 [==============================] - 0s 6ms/step - loss: 8.9752e-04 - acc: 1.0000\n",
            "Epoch 42/70\n",
            "5/5 [==============================] - 0s 8ms/step - loss: 8.3997e-04 - acc: 1.0000\n",
            "Epoch 43/70\n",
            "5/5 [==============================] - 0s 6ms/step - loss: 7.8187e-04 - acc: 1.0000\n",
            "Epoch 44/70\n",
            "5/5 [==============================] - 0s 6ms/step - loss: 7.2492e-04 - acc: 1.0000\n",
            "Epoch 45/70\n",
            "5/5 [==============================] - 0s 5ms/step - loss: 6.8058e-04 - acc: 1.0000\n",
            "Epoch 46/70\n",
            "5/5 [==============================] - 0s 6ms/step - loss: 6.4487e-04 - acc: 1.0000\n",
            "Epoch 47/70\n",
            "5/5 [==============================] - 0s 6ms/step - loss: 6.1176e-04 - acc: 1.0000\n",
            "Epoch 48/70\n",
            "5/5 [==============================] - 0s 6ms/step - loss: 5.7809e-04 - acc: 1.0000\n",
            "Epoch 49/70\n",
            "5/5 [==============================] - 0s 10ms/step - loss: 5.5117e-04 - acc: 1.0000\n",
            "Epoch 50/70\n",
            "5/5 [==============================] - 0s 8ms/step - loss: 5.3435e-04 - acc: 1.0000\n",
            "Epoch 51/70\n",
            "5/5 [==============================] - 0s 6ms/step - loss: 5.1336e-04 - acc: 1.0000\n",
            "Epoch 52/70\n",
            "5/5 [==============================] - 0s 6ms/step - loss: 4.9607e-04 - acc: 1.0000\n",
            "Epoch 53/70\n",
            "5/5 [==============================] - 0s 6ms/step - loss: 4.8055e-04 - acc: 1.0000\n",
            "Epoch 54/70\n",
            "5/5 [==============================] - 0s 6ms/step - loss: 4.7001e-04 - acc: 1.0000\n",
            "Epoch 55/70\n",
            "5/5 [==============================] - 0s 6ms/step - loss: 4.5740e-04 - acc: 1.0000\n",
            "Epoch 56/70\n",
            "5/5 [==============================] - 0s 7ms/step - loss: 4.4878e-04 - acc: 1.0000\n",
            "Epoch 57/70\n",
            "5/5 [==============================] - 0s 7ms/step - loss: 4.4238e-04 - acc: 1.0000\n",
            "Epoch 58/70\n",
            "5/5 [==============================] - 0s 6ms/step - loss: 4.3434e-04 - acc: 1.0000\n",
            "Epoch 59/70\n",
            "5/5 [==============================] - 0s 6ms/step - loss: 4.3317e-04 - acc: 1.0000\n",
            "Epoch 60/70\n",
            "5/5 [==============================] - 0s 7ms/step - loss: 4.2616e-04 - acc: 1.0000\n",
            "Epoch 61/70\n",
            "5/5 [==============================] - 0s 6ms/step - loss: 4.1947e-04 - acc: 1.0000\n",
            "Epoch 62/70\n",
            "5/5 [==============================] - 0s 8ms/step - loss: 4.1322e-04 - acc: 1.0000\n",
            "Epoch 63/70\n",
            "5/5 [==============================] - 0s 6ms/step - loss: 4.0798e-04 - acc: 1.0000\n",
            "Epoch 64/70\n",
            "5/5 [==============================] - 0s 6ms/step - loss: 4.0319e-04 - acc: 1.0000\n",
            "Epoch 65/70\n",
            "5/5 [==============================] - 0s 6ms/step - loss: 3.9933e-04 - acc: 1.0000\n",
            "Epoch 66/70\n",
            "5/5 [==============================] - 0s 7ms/step - loss: 3.9651e-04 - acc: 1.0000\n",
            "Epoch 67/70\n",
            "5/5 [==============================] - 0s 6ms/step - loss: 3.9249e-04 - acc: 1.0000\n",
            "Epoch 68/70\n",
            "5/5 [==============================] - 0s 6ms/step - loss: 3.8917e-04 - acc: 1.0000\n",
            "Epoch 69/70\n",
            "5/5 [==============================] - 0s 6ms/step - loss: 3.8989e-04 - acc: 1.0000\n",
            "Epoch 70/70\n",
            "5/5 [==============================] - 0s 6ms/step - loss: 3.8614e-04 - acc: 1.0000\n"
          ],
          "name": "stdout"
        }
      ]
    },
    {
      "cell_type": "code",
      "metadata": {
        "id": "He5mri-Gr0yO",
        "colab_type": "code",
        "outputId": "f6202515-0d7c-4074-a039-1bffbca890af",
        "colab": {
          "base_uri": "https://localhost:8080/",
          "height": 68
        }
      },
      "source": [
        "import math \n",
        "print('-' * 100)\n",
        "train_score = model.evaluate(x=x_train, y=y_train, batch_size=3, verbose=0)\n",
        "print('Train Score: %.8f MSE (%.8f RMSE ) , %.8f  ACC' % (train_score[0], math.sqrt(train_score[0]),train_score[1]*100)  )\n",
        "\n",
        "\n",
        "validate_score = model.evaluate(x=x_validate, y=y_validate, batch_size=3, verbose=0)\n",
        "print('Validation Score: %.8f MSE (%.8f RMSE ) , %.8f  ACC' % (validate_score[0], math.sqrt(validate_score[0]),validate_score[1]*100))"
      ],
      "execution_count": 18,
      "outputs": [
        {
          "output_type": "stream",
          "text": [
            "----------------------------------------------------------------------------------------------------\n",
            "Train Score: 0.00038220 MSE (0.01954999 RMSE ) , 100.00000000  ACC\n",
            "Validation Score: 0.01461392 MSE (0.12088806 RMSE ) , 100.00000000  ACC\n"
          ],
          "name": "stdout"
        }
      ]
    },
    {
      "cell_type": "code",
      "metadata": {
        "id": "Qmi1ZOfusT-q",
        "colab_type": "code",
        "colab": {}
      },
      "source": [
        "train_predict = model.predict(x_train)\n",
        "validate_predict = model.predict(x_validate)"
      ],
      "execution_count": 0,
      "outputs": []
    },
    {
      "cell_type": "code",
      "metadata": {
        "id": "gpFCr3RAsgTu",
        "colab_type": "code",
        "colab": {}
      },
      "source": [
        "def inverse_normalize_data(data, scaler):\n",
        "    for i in range(len(data)):\n",
        "        data[i] = scaler.inverse_transform(data[i])\n",
        "\n",
        "    return data"
      ],
      "execution_count": 0,
      "outputs": []
    },
    {
      "cell_type": "code",
      "metadata": {
        "id": "A0nEaEyDsh5P",
        "colab_type": "code",
        "colab": {}
      },
      "source": [
        "train_predict = inverse_normalize_data(train_predict, scaler)\n",
        "y_train = inverse_normalize_data(y_train, scaler)\n",
        "validate_predict = inverse_normalize_data(validate_predict, scaler)\n",
        "y_validate = inverse_normalize_data(y_validate, scaler)"
      ],
      "execution_count": 0,
      "outputs": []
    },
    {
      "cell_type": "code",
      "metadata": {
        "id": "5-Sxcc_l7RPa",
        "colab_type": "code",
        "outputId": "7271a165-c0ab-480b-af30-87cdcd5fab6c",
        "colab": {
          "base_uri": "https://localhost:8080/",
          "height": 425
        }
      },
      "source": [
        "y_validate"
      ],
      "execution_count": 22,
      "outputs": [
        {
          "output_type": "execute_result",
          "data": {
            "text/plain": [
              "array([[[3.1000e+01, 1.1948e+04, 2.5900e+02, 2.6700e+02],\n",
              "        [3.2000e+01, 1.4551e+04, 3.0400e+02, 4.1600e+02],\n",
              "        [3.3000e+01, 1.7387e+04, 3.6200e+02, 7.1200e+02],\n",
              "        [3.4000e+01, 2.0626e+04, 4.2600e+02, 9.1300e+02]],\n",
              "\n",
              "       [[3.2000e+01, 1.4551e+04, 3.0400e+02, 4.1600e+02],\n",
              "        [3.3000e+01, 1.7387e+04, 3.6200e+02, 7.1200e+02],\n",
              "        [3.4000e+01, 2.0626e+04, 4.2600e+02, 9.1300e+02],\n",
              "        [3.5000e+01, 2.4553e+04, 4.9200e+02, 1.2600e+03]],\n",
              "\n",
              "       [[3.3000e+01, 1.7387e+04, 3.6200e+02, 7.1200e+02],\n",
              "        [3.4000e+01, 2.0626e+04, 4.2600e+02, 9.1300e+02],\n",
              "        [3.5000e+01, 2.4553e+04, 4.9200e+02, 1.2600e+03],\n",
              "        [3.6000e+01, 2.8276e+04, 5.6500e+02, 1.6010e+03]],\n",
              "\n",
              "       [[3.4000e+01, 2.0626e+04, 4.2600e+02, 9.1300e+02],\n",
              "        [3.5000e+01, 2.4553e+04, 4.9200e+02, 1.2600e+03],\n",
              "        [3.6000e+01, 2.8276e+04, 5.6500e+02, 1.6010e+03],\n",
              "        [3.7000e+01, 3.1439e+04, 6.3800e+02, 1.8440e+03]],\n",
              "\n",
              "       [[3.5000e+01, 2.4553e+04, 4.9200e+02, 1.2600e+03],\n",
              "        [3.6000e+01, 2.8276e+04, 5.6500e+02, 1.6010e+03],\n",
              "        [3.7000e+01, 3.1439e+04, 6.3800e+02, 1.8440e+03],\n",
              "        [3.8000e+01, 3.4875e+04, 7.2400e+02, 2.0750e+03]]])"
            ]
          },
          "metadata": {
            "tags": []
          },
          "execution_count": 22
        }
      ]
    },
    {
      "cell_type": "code",
      "metadata": {
        "id": "C_joWh4msuSP",
        "colab_type": "code",
        "outputId": "94ee4606-bc41-408f-ee39-f9166ae10668",
        "colab": {
          "base_uri": "https://localhost:8080/",
          "height": 435
        }
      },
      "source": [
        "day = ['First Day','Second Day','Third Day','Fourth Day']\n",
        "\n",
        "fig = plt.figure(figsize=(20, 15))\n",
        "ax1 = fig.add_subplot(231)\n",
        "ax2 = fig.add_subplot(232)\n",
        "ax3 = fig.add_subplot(233)\n",
        "\n",
        "ax1.plot(day,y_validate[:,:,1][3],color='red',label='Confirmed Actual')\n",
        "ax1.plot(day,validate_predict[:,:,1][3],color='maroon',label='Confirmed Prediction')\n",
        "ax1.title.set_text(\"Confirmed per/day\")\n",
        "ax1.legend()\n",
        "\n",
        "\n",
        "ax2.bar(day,y_validate[:,:,2][3],color='red',label='Deaths Actual')\n",
        "ax2.bar(day,validate_predict[:,:,2][3],color='maroon',label='Deaths Prediction')\n",
        "ax2.title.set_text(\"Deaths per/day\")\n",
        "ax2.legend()\n",
        "\n",
        "\n",
        "ax3.bar(day,y_validate[:,:,3][3],color='red',label='Recoverd Actual')\n",
        "ax3.bar(day,validate_predict[:,:,3][3],color='maroon',label='Recoverd Prediction')\n",
        "ax3.title.set_text(\"Recoverd per/day\")\n",
        "ax3.legend()\n",
        "\n",
        "plt.show()"
      ],
      "execution_count": 23,
      "outputs": [
        {
          "output_type": "display_data",
          "data": {
            "image/png": "[encoded data removed]",
            "text/plain": [
              "<Figure size 1440x1080 with 3 Axes>"
            ]
          },
          "metadata": {
            "tags": []
          }
        }
      ]
    },
    {
      "cell_type": "code",
      "metadata": {
        "id": "c5EnpjzStiYT",
        "colab_type": "code",
        "outputId": "ea179e51-511a-4b77-8055-2683fa69a347",
        "colab": {
          "base_uri": "https://localhost:8080/",
          "height": 34
        }
      },
      "source": [
        "x_train, y_train, x_validate, y_validate = load_data(data,time_step=3, after_day=4, validate_percent=0.)"
      ],
      "execution_count": 24,
      "outputs": [
        {
          "output_type": "stream",
          "text": [
            "total data:  (10, 7, 4)\n"
          ],
          "name": "stdout"
        }
      ]
    },
    {
      "cell_type": "code",
      "metadata": {
        "id": "8KbsMDLl97Gp",
        "colab_type": "code",
        "colab": {}
      },
      "source": [
        "train_predict = inverse_normalize_data(train_predict, scaler)\n",
        "y_train = inverse_normalize_data(y_train, scaler)\n",
        "validate_predict = inverse_normalize_data(validate_predict, scaler)\n",
        "y_validate = inverse_normalize_data(y_validate, scaler)"
      ],
      "execution_count": 0,
      "outputs": []
    },
    {
      "cell_type": "code",
      "metadata": {
        "id": "vjc97grDtx04",
        "colab_type": "code",
        "outputId": "80d47bbb-8887-4d7d-80f7-ac47584235a2",
        "colab": {
          "base_uri": "https://localhost:8080/",
          "height": 34
        }
      },
      "source": [
        "x_test = data[13:]\n",
        "x_test = np.reshape(x_test, (1, x_test.shape[0], x_test.shape[1]))\n",
        "x_test.shape"
      ],
      "execution_count": 27,
      "outputs": [
        {
          "output_type": "execute_result",
          "data": {
            "text/plain": [
              "(1, 3, 4)"
            ]
          },
          "metadata": {
            "tags": []
          },
          "execution_count": 27
        }
      ]
    },
    {
      "cell_type": "code",
      "metadata": {
        "id": "km1oFl8sAgGK",
        "colab_type": "code",
        "outputId": "b0cdf12f-753c-47cf-96cf-58d3440ee385",
        "colab": {
          "base_uri": "https://localhost:8080/",
          "height": 102
        }
      },
      "source": [
        "next_predict = model.predict(x_test)\n",
        "next_predict_res = inverse_normalize_data(next_predict, scaler)\n",
        "next_predict_res"
      ],
      "execution_count": 28,
      "outputs": [
        {
          "output_type": "execute_result",
          "data": {
            "text/plain": [
              "array([[[3.9004208e+01, 2.5959381e+04, 6.2626648e+02, 1.1130024e+03],\n",
              "        [4.3558620e+01, 3.9634078e+04, 8.8673462e+02, 1.8601141e+03],\n",
              "        [4.6928925e+01, 5.0007719e+04, 1.0827415e+03, 2.4987300e+03],\n",
              "        [4.9113029e+01, 5.7280727e+04, 1.2202708e+03, 2.9678884e+03]]],\n",
              "      dtype=float32)"
            ]
          },
          "metadata": {
            "tags": []
          },
          "execution_count": 28
        }
      ]
    },
    {
      "cell_type": "code",
      "metadata": {
        "id": "X_efSl4eAiBw",
        "colab_type": "code",
        "colab": {}
      },
      "source": [
        "next4_0 = np.pad(next_predict_res[:,:,1][0], [(4, 0)], mode='constant')\n",
        "next4_0[:4]=y_validate[:,:,1][8]\n",
        "\n",
        "next4_1 = np.pad(next_predict_res[:,:,2][0], [(4, 0)], mode='constant')\n",
        "next4_1[:4]=y_validate[:,:,2][8]\n",
        "\n",
        "next4_2 = np.pad(next_predict_res[:,:,3][0], [(4, 0)], mode='constant')\n",
        "next4_2[:4]=y_validate[:,:,3][8]\n",
        "\n",
        "\n",
        "\n",
        "BACK4_0 = np.pad(y_validate[:,:,1][8], [(0, 4)], mode='constant')\n",
        "BACK4_0[4:]=np.NAN\n",
        "\n",
        "BACK4_1 = np.pad(y_validate[:,:,2][8], [(0, 4)], mode='constant')\n",
        "BACK4_1[4:]=np.NAN\n",
        "\n",
        "BACK4_2 = np.pad(y_validate[:,:,3][8], [(0, 4)], mode='constant')\n",
        "BACK4_2[4:]=np.NAN"
      ],
      "execution_count": 0,
      "outputs": []
    },
    {
      "cell_type": "code",
      "metadata": {
        "id": "95O03gJaAoIa",
        "colab_type": "code",
        "outputId": "bf320614-59c8-44b9-c891-2d4c00515b57",
        "colab": {
          "base_uri": "https://localhost:8080/",
          "height": 578
        }
      },
      "source": [
        "day = ['04-2-2020','05-2-2020','06-2-2020','07-2-2020','08-2-2020','09-2-2020','10-2-2020','11-2-2020']\n",
        "\n",
        "fig = plt.figure(figsize=(35, 20))\n",
        "ax1 = fig.add_subplot(231)\n",
        "ax2 = fig.add_subplot(232)\n",
        "ax3 = fig.add_subplot(233)                                            \n",
        "\n",
        "ax1.plot(day,next4_0,color='blue',ls='--',clip_on=True,label='Predicted Confirmed')\n",
        "ax1.plot(BACK4_0,color='blue',clip_on=True,label='Actual Confirmed')\n",
        "\n",
        "ax1.title.set_text(\"Confirmed per/day\")\n",
        "ax1.legend()\n",
        "\n",
        "\n",
        "ax2.bar(day,next4_1,color='maroon',ls='--',clip_on=True,label='Predicted Deaths')\n",
        "ax2.bar(day,BACK4_1,color='blue',clip_on=True,label='Actual Deaths')\n",
        "ax2.legend()\n",
        "\n",
        "ax2.title.set_text(\"Deaths per/day\")\n",
        "ax2.legend()\n",
        "\n",
        "ax3.bar(day,next4_2,color='maroon',ls='--',clip_on=True,label='Predicted Recoverd')\n",
        "ax3.bar(day,BACK4_2,color='red',clip_on=True,label='Actual Recoverd')\n",
        "\n",
        "\n",
        "ax3.title.set_text(\"Recoverd per/day\")\n",
        "ax3.legend()\n",
        "\n",
        "plt.show()"
      ],
      "execution_count": 30,
      "outputs": [
        {
          "output_type": "display_data",
          "data": {
            "image/png": "[encoded data removed]",
            "text/plain": [
              "<Figure size 2520x1440 with 3 Axes>"
            ]
          },
          "metadata": {
            "tags": []
          }
        }
      ]
    },
    {
      "cell_type": "code",
      "metadata": {
        "id": "pLr8xAVIGypx",
        "colab_type": "code",
        "outputId": "657dadb5-8073-4e1b-ad32-38ff83cf22e1",
        "colab": {
          "base_uri": "https://localhost:8080/",
          "height": 297
        }
      },
      "source": [
        "dataf = pd.DataFrame(data=[day,next4_0, next4_1,next4_2])\n",
        "dataf = dataf.T\n",
        "dataf.columns=['Date','Confirmed','Deaths','Recoverd']\n",
        "\n",
        "dataf.Confirmed = dataf.Confirmed.apply(lambda x : np.round(x,0))\n",
        "dataf.Deaths = dataf.Deaths.apply(lambda x : np.round(x,0))\n",
        "dataf.Recoverd = dataf.Recoverd.apply(lambda x : np.round(x,0))\n",
        "\n",
        "dataf"
      ],
      "execution_count": 31,
      "outputs": [
        {
          "output_type": "execute_result",
          "data": {
            "text/html": [
              "<div>\n",
              "<style scoped>\n",
              "    .dataframe tbody tr th:only-of-type {\n",
              "        vertical-align: middle;\n",
              "    }\n",
              "\n",
              "    .dataframe tbody tr th {\n",
              "        vertical-align: top;\n",
              "    }\n",
              "\n",
              "    .dataframe thead th {\n",
              "        text-align: right;\n",
              "    }\n",
              "</style>\n",
              "<table border=\"1\" class=\"dataframe\">\n",
              "  <thead>\n",
              "    <tr style=\"text-align: right;\">\n",
              "      <th></th>\n",
              "      <th>Date</th>\n",
              "      <th>Confirmed</th>\n",
              "      <th>Deaths</th>\n",
              "      <th>Recoverd</th>\n",
              "    </tr>\n",
              "  </thead>\n",
              "  <tbody>\n",
              "    <tr>\n",
              "      <th>0</th>\n",
              "      <td>04-2-2020</td>\n",
              "      <td>20626.0</td>\n",
              "      <td>426.0</td>\n",
              "      <td>913.0</td>\n",
              "    </tr>\n",
              "    <tr>\n",
              "      <th>1</th>\n",
              "      <td>05-2-2020</td>\n",
              "      <td>24553.0</td>\n",
              "      <td>492.0</td>\n",
              "      <td>1260.0</td>\n",
              "    </tr>\n",
              "    <tr>\n",
              "      <th>2</th>\n",
              "      <td>06-2-2020</td>\n",
              "      <td>28276.0</td>\n",
              "      <td>565.0</td>\n",
              "      <td>1601.0</td>\n",
              "    </tr>\n",
              "    <tr>\n",
              "      <th>3</th>\n",
              "      <td>07-2-2020</td>\n",
              "      <td>31439.0</td>\n",
              "      <td>638.0</td>\n",
              "      <td>1844.0</td>\n",
              "    </tr>\n",
              "    <tr>\n",
              "      <th>4</th>\n",
              "      <td>08-2-2020</td>\n",
              "      <td>25959.0</td>\n",
              "      <td>626.0</td>\n",
              "      <td>1113.0</td>\n",
              "    </tr>\n",
              "    <tr>\n",
              "      <th>5</th>\n",
              "      <td>09-2-2020</td>\n",
              "      <td>39634.0</td>\n",
              "      <td>887.0</td>\n",
              "      <td>1860.0</td>\n",
              "    </tr>\n",
              "    <tr>\n",
              "      <th>6</th>\n",
              "      <td>10-2-2020</td>\n",
              "      <td>50008.0</td>\n",
              "      <td>1083.0</td>\n",
              "      <td>2499.0</td>\n",
              "    </tr>\n",
              "    <tr>\n",
              "      <th>7</th>\n",
              "      <td>11-2-2020</td>\n",
              "      <td>57281.0</td>\n",
              "      <td>1220.0</td>\n",
              "      <td>2968.0</td>\n",
              "    </tr>\n",
              "  </tbody>\n",
              "</table>\n",
              "</div>"
            ],
            "text/plain": [
              "        Date  Confirmed  Deaths  Recoverd\n",
              "0  04-2-2020    20626.0   426.0     913.0\n",
              "1  05-2-2020    24553.0   492.0    1260.0\n",
              "2  06-2-2020    28276.0   565.0    1601.0\n",
              "3  07-2-2020    31439.0   638.0    1844.0\n",
              "4  08-2-2020    33959.0   712.0    1851.0\n",
              "5  09-2-2020    39634.0   887.0    1860.0\n",
              "6  10-2-2020    50008.0  1083.0    2499.0\n",
              "7  11-2-2020    57281.0  1220.0    2968.0"
            ]
          },
          "metadata": {
            "tags": []
          },
          "execution_count": 31
        }
      ]
    }
  ]
}
